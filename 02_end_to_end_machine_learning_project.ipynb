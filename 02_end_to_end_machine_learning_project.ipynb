{
 "cells": [
  {
   "cell_type": "code",
   "execution_count": 13,
   "metadata": {
    "pycharm": {
     "is_executing": false
    }
   },
   "outputs": [],
   "source": [
    "import os\n",
    "import pandas as pd\n",
    "import matplotlib.pyplot as plt\n",
    "import numpy as np\n",
    "from sklearn.impute import SimpleImputer\n",
    "from sklearn.model_selection import StratifiedShuffleSplit\n",
    "from pandas.plotting import scatter_matrix\n",
    "from sklearn.preprocessing import OneHotEncoder\n",
    "from sklearn.preprocessing import FunctionTransformer\n",
    "\n",
    "from sklearn.preprocessing import Imputer\n",
    "from sklearn.pipeline import  Pipeline\n",
    "from sklearn.preprocessing import  StandardScaler\n",
    "\n",
    "from sklearn.compose import ColumnTransformer\n",
    "from sklearn.linear_model import  LinearRegression\n",
    "from sklearn.tree import DecisionTreeRegressor\n",
    "\n",
    "from sklearn.metrics import mean_squared_error\n",
    "from sklearn.metrics import mean_absolute_error\n",
    "\n",
    "HOUSING_PATH = \"datasets/housing\"\n",
    "\n",
    "rooms_ix, bedrooms_ix, population_ix, household_ix =3,4,5,6"
   ]
  },
  {
   "cell_type": "code",
   "execution_count": 2,
   "metadata": {
    "pycharm": {}
   },
   "outputs": [],
   "source": [
    "def load_housing_data(housing_path=HOUSING_PATH):\n",
    "    csv_path = os.path.join(housing_path, \"housing.csv\")\n",
    "    return pd.read_csv(csv_path)\n",
    "\n",
    "def show_plot(plot):\n",
    "    plot.hist(bins=50, figsize=(20, 15))\n",
    "    plt.show()\n",
    "\n",
    "def split_train_test(data,test_ratio):\n",
    "    shuffled_data=np.random.permutation(data)\n",
    "    test_set=shuffled_data[:int(test_ratio*len(shuffled_data))]\n",
    "    train_set=shuffled_data[int(test_ratio*len(shuffled_data)):]\n",
    "    return train_set,test_set\n",
    "\n",
    "\n",
    "#将数据根据收入中位数的分布  取样为训练集和测试集\n",
    "def stratified_shuffle_split(data,n_splits=1,test_size=0.2,random_state=42):\n",
    "    housing=data\n",
    "    housing[\"income_cat\"] = np.ceil(housing[\"median_income\"] / 1.5)\n",
    "    # 将大于5的归入分类5\n",
    "    housing[\"income_cat\"].where(housing[\"income_cat\"] < 5, 5.0, True)\n",
    "    split = StratifiedShuffleSplit(n_splits=1, test_size=0.2, random_state=42)\n",
    "    for train_index, test_index in split.split(housing, housing[\"income_cat\"]):\n",
    "        start_train_set = housing.loc[train_index]\n",
    "        start_test_set = housing.loc[test_index]\n",
    "    # print(housing[\"income_cat\"].value_counts()/len(housing))\n",
    "    # print(start_train_set[\"income_cat\"].value_counts()/len(start_train_set))\n",
    "    # print(start_test_set[\"income_cat\"].value_counts()/len(start_test_set))\n",
    "    for set in (start_test_set,start_train_set):\n",
    "        set.drop([\"income_cat\"],axis=1,inplace=True)\n",
    "    return start_train_set,start_test_set\n",
    "\n",
    "def data_clean(data):\n",
    "    start_train_set=data\n",
    "    housing=start_train_set\n",
    "\n",
    "#缺失值填充\n",
    "def data_impute(data):\n",
    "    housing=data\n",
    "    imputer = Imputer(strategy=\"median\")\n",
    "    housing_num = housing.drop(\"ocean_proximity\", axis=1)\n",
    "    imputer.fit(housing_num)\n",
    "    #print(imputer.statistics_)\n",
    "    #print(housing_num.median().values)\n",
    "    X=imputer.transform(housing_num)\n",
    "    housing_tr=pd.DataFrame(X,columns=housing_num.columns)\n",
    "    return  X\n",
    "\n",
    "#查看每个属性与房价中位数的关联度\n",
    "def corr_matrix_special(data):\n",
    "    housing=data\n",
    "    corr_matrix = housing.corr()\n",
    "    print(corr_matrix[\"median_house_value\"].sort_values(ascending=False))\n",
    "    attributes=[\"median_house_value\",\"median_income\",\n",
    "                \"total_rooms\",\"housing_median_age\"]\n",
    "    scatter_matrix(housing[attributes] ,figsize=(12,8))\n",
    "    plt.show()\n",
    "\n",
    "#增加额外的属性\n",
    "def add_extra_features(X,add_bedrooms_per_room=True):\n",
    "    rooms_per_household = X[:, rooms_ix] / X[:, household_ix]\n",
    "    population_per_household = X[:, population_ix] / X[:, household_ix]\n",
    "\n",
    "    if add_bedrooms_per_room:\n",
    "        bedrooms_per_room = X[:, bedrooms_ix] / X[:, rooms_ix]\n",
    "        return np.c_[X, rooms_per_household, population_per_household,\n",
    "                     bedrooms_per_room]\n",
    "    else:\n",
    "        return np.c_[X, rooms_per_household, population_per_household]\n",
    "\n",
    "#@pysnooper.snoop()\n",
    "#增加额外的属性列\n",
    "def combine_attr_adder(housing):\n",
    "    attr_adder = FunctionTransformer(add_extra_features, validate=False,\n",
    "                                     kw_args={\"add_bedrooms_per_room\": False})\n",
    "    housing_extra_attribs = attr_adder.transform(housing.values)\n",
    "    housing_extra_attribs = pd.DataFrame(\n",
    "        housing_extra_attribs,\n",
    "        columns=list(housing.columns) + [\"rooms_per_household\",\n",
    "                                         \"population_per_household\"])\n",
    "    #print(housing_extra_attribs.head())\n",
    "    return housing_extra_attribs\n",
    "\n",
    "\n",
    "#数据清理准备流水线\n",
    "def data_trans_pipeline(data,num_attribs,cat_attribs):\n",
    "\n",
    "    \n",
    "    #housing_num_tr=num_pipeline.fit_transform(housing_num)\n",
    "\n",
    "    #num_attribs = list(housing_num)\n",
    "    #cat_attribs = [\"ocean_proximity\"]\n",
    "\n",
    "    \n",
    "    data_prepared = full_pipeline.fit_transform(data)\n",
    "    return data_prepared"
   ]
  },
  {
   "cell_type": "code",
   "execution_count": 10,
   "metadata": {
    "pycharm": {
     "is_executing": false
    }
   },
   "outputs": [
    {
     "name": "stdout",
     "output_type": "stream",
     "text": [
      "68628.19819848922\n"
     ]
    }
   ],
   "source": [
    "if __name__ == \"__main__\":\n",
    "    #读取原始数据\n",
    "    housing = load_housing_data()\n",
    "    #print(housing.head())\n",
    "    #show_plot(housing)\n",
    "    #train_set,test_set=split_train_test(housing,0.2)\n",
    "    #train_set,test_set=train_test_split(housing,test_size=0.2,random_state=42)\n",
    "\n",
    "    #将数据根据收入中位数的分布  取样为训练集和测试集\n",
    "    start_train_set,start_test_set=stratified_shuffle_split(housing)\n",
    "\n",
    "    #housing = start_train_set\n",
    "    # corr_matrix_special(housing)\n",
    "\n",
    "    #删除标签数据  将标签数单独保存\n",
    "    housing=start_train_set.drop(\"median_house_value\",axis=1)\n",
    "    housing_labels=start_train_set[\"median_house_value\"].copy()\n",
    "    # 缺失值填充\n",
    "    #data_impute(housing)\n",
    "\n",
    "    #取出数值数据\n",
    "    housing_num = housing.drop('ocean_proximity', axis=1)\n",
    "    #取出非数值的分类数据\n",
    "    housing_cat = housing[['ocean_proximity']]\n",
    "    #print(housing_cat)\n",
    "\n",
    "    #将分类数据转换为独热向量\n",
    "    #ordinal_encoder=OrdinalEncoder()\n",
    "    #housing_cat_encoded=ordinal_encoder.fit_transform(housing_cat)\n",
    "    #print(housing_cat_encoded[:10])\n",
    "    #print(ordinal_encoder.categories_)\n",
    "    #cat_encoder = OneHotEncoder(sparse=False)\n",
    "    #housing_cat_1hot = cat_encoder.fit_transform(housing_cat)\n",
    "    #print(housing_cat_1hot)\n",
    "    #print(housing_cat_1hot.toarray())\n",
    "    #print(cat_encoder.categories_)\n",
    "    #print(housing.columns)\n",
    "\n",
    "    #rooms_ix, bedrooms_ix, population_ix, household_ix = [\n",
    "    #   list(housing.columns).index(col)\n",
    "    #  for col in (\"total_rooms\", \"total_bedrooms\", \"population\",\n",
    "    #  \"households\")]\n",
    "\n",
    "    #添加额外的属性\n",
    "    #combine_attr_adder(housing)\n",
    "\n",
    "    #流水线转换  传入数据 数字列 分类列\n",
    "    num_pipeline=Pipeline([\n",
    "        ('imputer', SimpleImputer(strategy=\"median\")),\n",
    "        ('attribs_adder', FunctionTransformer(add_extra_features, validate=False)),\n",
    "        ('std_scaler', StandardScaler()),\n",
    "    ])\n",
    "    \n",
    "    num_attribs=list(housing_num)\n",
    "    cat_attribs=[\"ocean_proximity\"]\n",
    "    \n",
    "    full_pipeline = ColumnTransformer([\n",
    "        (\"num\", num_pipeline, num_attribs),\n",
    "        (\"cat\", OneHotEncoder(), cat_attribs),\n",
    "    ])\n",
    "    \n",
    "    housing_prepared=full_pipeline.fit_transform(housing)\n",
    "    #print(housing_prepared)\n",
    "    #print(housing_prepared.shape)    \n",
    "    \n",
    "    \n",
    "    lin_reg=LinearRegression()\n",
    "    lin_reg.fit(housing_prepared,housing_labels)\n",
    "\n",
    "    #some_data = housing.iloc[:5]\n",
    "    #some_labels = housing_labels.iloc[:5]\n",
    "    #some_data_prepared = full_pipeline.transform(some_data)\n",
    "    #print(\"Predictions:\", lin_reg.predict(some_data_prepared))\n",
    "    #print(\"Labels:\",list(some_labels))\n",
    "    housing_predictions=lin_reg.predict(housing_prepared)\n",
    "    lin_mse=mean_squared_error(housing_labels,housing_predictions)\n",
    "    lin_rmse=np.sqrt(lin_mse)\n",
    "    print(lin_rmse)\n",
    "    \n",
    "    tree_reg=DecisionTreeRegressor(random_state=42)\n",
    "    tree_reg.fit(housing_prepared,housing_labels)\n",
    "\n",
    "    housing_predictions=tree_reg.predict(housing_prepared)\n",
    "    tree_mse=mean_squared_error(housing_labels,housing_predictions)\n",
    "    tree_rmse=np.sqrt(tree_mse)\n",
    "    print(tree_rmse)"
   ]
  },
  {
   "cell_type": "code",
   "execution_count": 12,
   "metadata": {},
   "outputs": [
    {
     "data": {
      "text/plain": [
       "49439.89599001898"
      ]
     },
     "execution_count": 12,
     "metadata": {},
     "output_type": "execute_result"
    }
   ],
   "source": [
    "lin_mae = mean_absolute_error(housing_labels, housing_predictions)\n",
    "lin_mae"
   ]
  },
  {
   "cell_type": "code",
   "execution_count": 16,
   "metadata": {},
   "outputs": [
    {
     "name": "stdout",
     "output_type": "stream",
     "text": [
      "0.0\n"
     ]
    }
   ],
   "source": []
  },
  {
   "cell_type": "code",
   "execution_count": null,
   "metadata": {},
   "outputs": [],
   "source": []
  }
 ],
 "metadata": {
  "kernelspec": {
   "display_name": "Python 3",
   "language": "python",
   "name": "python3"
  },
  "language_info": {
   "codemirror_mode": {
    "name": "ipython",
    "version": 3
   },
   "file_extension": ".py",
   "mimetype": "text/x-python",
   "name": "python",
   "nbconvert_exporter": "python",
   "pygments_lexer": "ipython3",
   "version": "3.6.7"
  }
 },
 "nbformat": 4,
 "nbformat_minor": 2
}
